{
 "cells": [
  {
   "cell_type": "code",
   "execution_count": 32,
   "metadata": {},
   "outputs": [],
   "source": [
    "import numpy as np\n",
    "import plotly.graph_objects as go\n",
    "from plotly.graph_objs import *\n",
    "import os\n",
    "import h5py\n",
    "import glob"
   ]
  },
  {
   "cell_type": "code",
   "execution_count": 56,
   "metadata": {},
   "outputs": [
    {
     "data": {
      "text/plain": [
       "(12308, 2048, 3)"
      ]
     },
     "execution_count": 56,
     "metadata": {},
     "output_type": "execute_result"
    }
   ],
   "source": [
    "all_pcds = np.load(\"/pool/tung/code/UCI-courses/cs274E/cs274e/logs/reconstruction/model/modelnet40_pretrained/reconstructions.npy\", allow_pickle=True)\n",
    "all_pcds.shape"
   ]
  },
  {
   "cell_type": "code",
   "execution_count": 20,
   "metadata": {},
   "outputs": [],
   "source": [
    "def show_pcd(verts, ids=None, marker_size=1, pcdcolors=None):\n",
    "    x, y, z = verts.T\n",
    "    \n",
    "    if pcdcolors is None:\n",
    "        if ids is None:\n",
    "            ids = np.linspace(0, 1, len(x), endpoint=True)\n",
    "        go_pcd = go.Scatter3d(z=x, y=y, x=z,\n",
    "                              # Intensity of each vertex, which will be interpolated and color-coded\n",
    "                              mode='markers',\n",
    "                              marker=dict(size=marker_size,\n",
    "                                          color=ids, \n",
    "                                          # set color to an array/list of desired values\n",
    "                                          colorscale=[[0, 'gold'],\n",
    "                                                      [0.5, 'mediumturquoise'],\n",
    "                                                      [1, 'magenta']],   # choose a colorscale\n",
    "                                         ))\n",
    "    else:\n",
    "        go_pcd = go.Scatter3d(z=x, y=y, x=z,\n",
    "                              # Intensity of each vertex, which will be interpolated and color-coded\n",
    "                              mode='markers',\n",
    "                              marker=dict(size=marker_size,\n",
    "                                          color=pcdcolors\n",
    "                                         ))\n",
    "    \n",
    "    fig = go.Figure(data=[go_pcd])\n",
    "    fig.show()\n",
    "    "
   ]
  },
  {
   "cell_type": "code",
   "execution_count": null,
   "metadata": {},
   "outputs": [],
   "source": [
    "show_pcd(all_pcds[10], marker_size=3)"
   ]
  },
  {
   "cell_type": "code",
   "execution_count": 45,
   "metadata": {},
   "outputs": [],
   "source": [
    "\n",
    "def pc_normalize(pc):\n",
    "    centroid = np.mean(pc, axis=0)\n",
    "    pc = pc - centroid\n",
    "    m = np.max(np.sqrt(np.sum(pc ** 2, axis=1)))\n",
    "    pc = pc / m\n",
    "    return pc\n",
    "root = \"/pool/tung/code/UCI-courses/cs274E/cs274e/dataset/modelnet40_ply_hdf5_2048\"\n",
    "flistname = os.path.join(root, \"*.h5\")\n",
    "flistname = sorted(glob.glob(flistname))\n",
    "flist = [h5py.File(fname, \"r\") for fname in flistname]\n",
    "data = np.concatenate([pc_normalize(f[\"data\"][:]) for f in flist])\n"
   ]
  },
  {
   "cell_type": "code",
   "execution_count": 46,
   "metadata": {},
   "outputs": [
    {
     "data": {
      "text/plain": [
       "(12308, 2048, 3)"
      ]
     },
     "execution_count": 46,
     "metadata": {},
     "output_type": "execute_result"
    }
   ],
   "source": [
    "data.shape"
   ]
  },
  {
   "cell_type": "code",
   "execution_count": null,
   "metadata": {},
   "outputs": [],
   "source": [
    "show_pcd(data[10], marker_size=3)"
   ]
  },
  {
   "cell_type": "code",
   "execution_count": 64,
   "metadata": {},
   "outputs": [
    {
     "data": {
      "text/plain": [
       "(57448, 2048, 3)"
      ]
     },
     "execution_count": 64,
     "metadata": {},
     "output_type": "execute_result"
    }
   ],
   "source": [
    "shapenet_pcds = np.load(\"/pool/tung/code/UCI-courses/cs274E/cs274e/logs/reconstruction/model/shapenet55_pretrained/reconstructions.npy\", allow_pickle=True)\n",
    "shapenet_pcds.shape"
   ]
  },
  {
   "cell_type": "code",
   "execution_count": null,
   "metadata": {},
   "outputs": [],
   "source": [
    "show_pcd(shapenet_pcds[1], marker_size=3)"
   ]
  },
  {
   "cell_type": "code",
   "execution_count": null,
   "metadata": {},
   "outputs": [],
   "source": []
  }
 ],
 "metadata": {
  "kernelspec": {
   "display_name": "torch14",
   "language": "python",
   "name": "python3"
  },
  "language_info": {
   "codemirror_mode": {
    "name": "ipython",
    "version": 3
   },
   "file_extension": ".py",
   "mimetype": "text/x-python",
   "name": "python",
   "nbconvert_exporter": "python",
   "pygments_lexer": "ipython3",
   "version": "3.10.11"
  },
  "orig_nbformat": 4
 },
 "nbformat": 4,
 "nbformat_minor": 2
}
